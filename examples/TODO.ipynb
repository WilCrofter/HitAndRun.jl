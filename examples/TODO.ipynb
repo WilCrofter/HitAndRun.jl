{
 "cells": [
  {
   "cell_type": "markdown",
   "metadata": {},
   "source": [
    "# TODO:\n",
    "\n",
    "#### A list of possibilities based on Anderson & Diaconis Hit and Run as a Unifying Device,  *Journal de la Société Française de Statistique*, 148(4):5-28, [[PDF](http://statweb.stanford.edu/~cgates/PERSI/papers/hitandrun062207.pdf)], its references, and literature search based on the references.\n",
    "\n",
    "* Mallow's and other models of ranking and ordering. \n",
    "    * In Mallow's model, as covered in Anderson & Diaconis, the likelihood of an unseen permutation (equivalently, an unseen ranking or ordering) depends on its correlation with observed permutations which are presumed to contain errors.\n",
    "    * Generalized Mallow's model as in Lebanon & Lafferty *Cranking: Combining Rankings Using Conditional Probability Models on Permutations* [PDF](https://www.researchgate.net/profile/Guy_Lebanon/publication/221344766_Cranking_Combining_Rankings_Using_Conditional_Probability_Models_On_Permutations/links/02e7e52ba045dd5b43000000.pdf).\n",
    "    * [Seriation](https://en.wikipedia.org/wiki/Seriation_%28archaeology%29) is a related problem arising in archaeology and paleontology involving chronological ordering of sites based on the artifacts or fossils they contain. [Seriation in Paleontological Data Using Markov Chain Monte Carlo Methods](http://journals.plos.org/ploscompbiol/article?id=10.1371/journal.pcbi.0020006) present an alternate likelihood appropriate to their field. they also provide organized data.\n",
    "* Weak repetitive patterns. Liu, *Monte Carlo Strategies in Scientific Computing* [Google Books](https://books.google.com/books?id=jwrSBwAAQBAJ&dq=Monte+Carlo+Strategies+in+Scientific+Computing&lr=) (among others) describes the problem of finding DNA (or RNA or protein) subsequences most common to a given set of sequences. This problem is used in several places as an illustration for Gibbs sampling.\n",
    "* L Lovász, S Vempala, Hit and Run from a Corner, SIAM Journal on Computing, 2006 [Google Scholar](https://scholar.google.com/scholar?hl=en&q=hit+and+run+from+a+corner&btnG=&as_sdt=1%2C21&as_sdtp=) samples an exponetial distribution from the interior of a convex set.\n",
    "* Small effects: See Mengersen et. al., [Bayesian Estimation of Small Effects in Exercise and Sports Science](http://journals.plos.org/plosone/article?id=10.1371/journal.pone.0147311). \"A key interest in sports science is the estimation and evaluation of small effects, such as the difference in finishing times between world-class athletes, or the impact of exercise training and/or lifestyle interventions such as dietary changes or sleep behaviors on performance.\" MCMC used to estimate posteriors of effect vs placebo. Small effects could, conceivably, be useful for individuals.\n",
    "* Jacob Steinhardt, Percy Liang, [Learning Fast Mixing Models for Structured Prediction](http://arxiv.org/abs/1502.06668) Markov Chain Monte Carlo (MCMC) algorithms are often used for approximate inference inside learning, but their slow mixing can be difficult to diagnose and the approximations can seriously degrade learning. To alleviate these issues, we define a new model family using strong Doeblin Markov chains, whose mixing times can be precisely controlled by a parameter. We also develop an algorithm to learn such models, which involves maximizing the data likelihood under the induced stationary distribution of these chains. We show empirical improvements on two challenging inference tasks.\n"
   ]
  },
  {
   "cell_type": "code",
   "execution_count": null,
   "metadata": {
    "collapsed": true
   },
   "outputs": [],
   "source": []
  }
 ],
 "metadata": {
  "kernelspec": {
   "display_name": "Julia 0.4.5",
   "language": "julia",
   "name": "julia-0.4"
  },
  "language_info": {
   "file_extension": ".jl",
   "mimetype": "application/julia",
   "name": "julia",
   "version": "0.4.5"
  }
 },
 "nbformat": 4,
 "nbformat_minor": 0
}
